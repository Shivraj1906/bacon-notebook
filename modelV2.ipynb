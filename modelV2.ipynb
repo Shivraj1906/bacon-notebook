{
 "cells": [
  {
   "cell_type": "markdown",
   "metadata": {},
   "source": [
    "### Flexible Paleoclimate Age-Depth Models Using an Autoregressive Gamma Process"
   ]
  },
  {
   "cell_type": "code",
   "execution_count": 1,
   "metadata": {},
   "outputs": [
    {
     "name": "stdout",
     "output_type": "stream",
     "text": [
      "pytwalk: corner module not found, needed for method PlotCorner.\n",
      " Install it with: pip install corner.\n"
     ]
    }
   ],
   "source": [
    "import numpy as np\n",
    "from scipy.stats import norm\n",
    "import matplotlib.pyplot as plt\n",
    "from twalk import  pytwalk\n",
    "import pandas as pd\n",
    "from numba import njit"
   ]
  },
  {
   "cell_type": "code",
   "execution_count": 2,
   "metadata": {},
   "outputs": [],
   "source": [
    "# Parameters\n",
    "K = 21 # Number of equally spaced sections\n",
    "delta_c = 5 # space between adjacent sections\n",
    "\n",
    "# accumulation rate parameters\n",
    "acc_shape = 1.5\n",
    "acc_mean = 20 # mean of accumulation rate (yr/cm unit)\n",
    "\n",
    "# memory strength parameters\n",
    "mem_strength = 10\n",
    "mem_mean = 0.5 # mean of memory strength [0,1]. 0 means no memory, 1 means full memory\n",
    "\n",
    "# Student-t parameters\n",
    "a = 3\n",
    "b = 4"
   ]
  },
  {
   "cell_type": "code",
   "execution_count": 3,
   "metadata": {},
   "outputs": [],
   "source": [
    "# Setting parameters for Gamma distribution\n",
    "# mean of gamma dist = alpha * beta\n",
    "a_alpha = acc_shape\n",
    "a_beta = acc_shape / acc_mean\n",
    "\n",
    "# Setting parameters for Beta distribution\n",
    "# mean of beta dist = aw / (aw + bw)\n",
    "aw = mem_strength\n",
    "bw = (aw - mem_mean * aw) / mem_mean\n",
    "\n",
    "ds = 1"
   ]
  },
  {
   "cell_type": "code",
   "execution_count": 4,
   "metadata": {},
   "outputs": [
    {
     "data": {
      "text/plain": [
       "array([4128, 4106, 4046, 4184, 4076, 4107, 4097, 4177, 4220, 4281, 4374,\n",
       "       4493, 4452, 4616, 4662, 4743, 4638, 4810, 4757, 4839, 4913, 4880,\n",
       "       4989, 5070, 4993, 5115, 5026, 5242, 5159, 5130, 5238, 5293, 5293,\n",
       "       5368, 5498, 5588, 5514, 5535, 5644, 5885])"
      ]
     },
     "execution_count": 4,
     "metadata": {},
     "output_type": "execute_result"
    }
   ],
   "source": [
    "# load data\n",
    "dataset = pd.read_csv('MyLab.csv')\n",
    "calib_curve = pd.read_csv('calib_curves/intcal20.csv')\n",
    "\n",
    "y = dataset['age'].values\n",
    "depths = dataset['depth'].values\n",
    "error = dataset['error'].values\n",
    "\n",
    "M = len(y)\n",
    "\n",
    "# equally spaced sections\n",
    "c = np.arange(1.5, (K + 1) * delta_c, delta_c)\n",
    "y"
   ]
  },
  {
   "cell_type": "code",
   "execution_count": 5,
   "metadata": {},
   "outputs": [],
   "source": [
    "# calibration curve (IntCal20)\n",
    "# returns (age, sigma)\n",
    "cal_bp = calib_curve['CAL BP'][::-1]\n",
    "c14_age = calib_curve['14C age'][::-1]\n",
    "sigma = calib_curve['Sigma'][::-1]\n",
    "\n",
    "def mu(theta):\n",
    "    return np.interp(theta, cal_bp, c14_age), np.interp(theta, cal_bp, sigma)\n",
    "\n",
    "# precomputing the interpolated values for all possible calender years\n",
    "calibrated_age, calibrated_std = mu(np.arange(cal_bp.min(), cal_bp.max() + 1))"
   ]
  },
  {
   "cell_type": "code",
   "execution_count": 6,
   "metadata": {},
   "outputs": [],
   "source": [
    "# semi-parametric model to calculate calendar years for a given depth\n",
    "# returns calendar year\n",
    "# expects partitioned x values\n",
    "@njit\n",
    "def G(theta, x, d):\n",
    "    i = int(d / delta_c)\n",
    "\n",
    "    sum_part = 0.0\n",
    "    for j in range(i + 1):\n",
    "        sum_part += x[j] * delta_c\n",
    "\n",
    "    remainder = x[i + 1] * (d - c[i])\n",
    "    return theta + sum_part + remainder\n",
    "\n",
    "@njit\n",
    "def compute_G_values(theta, x, depths):\n",
    "    n = len(depths)\n",
    "    G_values = np.empty(n, dtype=np.float64)\n",
    "    for idx in range(n):\n",
    "        G_values[idx] = G(theta, x, depths[idx])\n",
    "        \n",
    "    return G_values"
   ]
  },
  {
   "cell_type": "code",
   "execution_count": 7,
   "metadata": {},
   "outputs": [],
   "source": [
    "# prior for theta. theta ~ N(y[0], error[0]) (Christen Fox 2010).\n",
    "def theta_prior(theta):\n",
    "    return norm.pdf(theta, loc=y[0], scale=error[0])"
   ]
  },
  {
   "cell_type": "code",
   "execution_count": 8,
   "metadata": {},
   "outputs": [],
   "source": [
    "# \"enery\" function U(theta, x, w | y) = -log (f(theta, x, w | y))\n",
    "def prioracU(i, al):\n",
    "    return (1.0 - a_alpha) * np.log(al) + a_beta * al\n",
    "\n",
    "def energy(x):\n",
    "    theta = x[0]\n",
    "    w = x[K + 1]\n",
    "\n",
    "    G_values = compute_G_values(theta, x[1 : K + 1], depths)\n",
    "    mu_values = calibrated_age[G_values.astype(int)]\n",
    "    std_values = calibrated_std[G_values.astype(int)]\n",
    "\n",
    "    term_1 = ((a + 0.5) * np.log(b + ((y - mu_values)**2) / (2 * (error**2 + std_values**2)))).sum()\n",
    "\n",
    "\n",
    "    term_2 = -np.log(theta)\n",
    "\n",
    "    # Term 3: Prior for w\n",
    "    term_3 = (1 - aw) * np.log(w) / delta_c + (1 - bw) * np.log(1 - w**(ds / delta_c))\n",
    "\n",
    "    # Term 4: Prior for x\n",
    "    term_4 = prioracU(0, x[K])\n",
    "    for k in range(1, K):\n",
    "        term_4 += prioracU(0, (x[k] - w * x[k + 1]) / (1 - w))\n",
    "\n",
    "    # Total energy\n",
    "    return (term_1 + term_2 + term_3 + term_4)\n"
   ]
  },
  {
   "cell_type": "code",
   "execution_count": 9,
   "metadata": {},
   "outputs": [],
   "source": [
    "def support(x):\n",
    "    w = x[-1]\n",
    "\n",
    "    if w <= 0 or w >= 1:\n",
    "        return False\n",
    "    \n",
    "    if x[0] <= 0:\n",
    "        return False\n",
    "\n",
    "    if x[K] <= 0:\n",
    "        return False\n",
    "        \n",
    "    for i in range(K - 1, 0, -1):\n",
    "        ak = (x[i] - w * x[i + 1]) / (1 - w)\n",
    "        if ak < 0:\n",
    "            return False\n",
    "        \n",
    "    return True"
   ]
  },
  {
   "cell_type": "code",
   "execution_count": 10,
   "metadata": {},
   "outputs": [
    {
     "data": {
      "text/plain": [
       "693.8023715654354"
      ]
     },
     "execution_count": 10,
     "metadata": {},
     "output_type": "execute_result"
    }
   ],
   "source": [
    "x = np.zeros(K + 2, dtype=np.float64) # x[0] = theta and x[-1] = w\n",
    "x_dash = np.zeros(K + 2, dtype=np.float64)\n",
    "# set initial values\n",
    "# theta\n",
    "x[0] = 4105\n",
    "x_dash[0] = 4212\n",
    "\n",
    "# setting initial values for w\n",
    "x[-1] = 0.04\n",
    "x_dash[-1] = 0.01\n",
    "\n",
    "# setting initial values for x\n",
    "x[K] = np.random.gamma(a_alpha, a_beta / (1 - x[-1]))\n",
    "x_dash[K] = np.random.gamma(a_alpha, a_beta / (1 - x_dash[-1]))\n",
    "\n",
    "for i in range(K - 1, 0, -1):\n",
    "    x[i] = x[-1] * x[i + 1] + np.random.gamma(a_alpha, a_beta / (1 - x[-1]))\n",
    "    x_dash[i] = x_dash[-1] * x_dash[i + 1] + np.random.gamma(a_alpha, a_beta / (1 - x_dash[-1]))\n",
    "\n",
    "energy(x)"
   ]
  },
  {
   "cell_type": "code",
   "execution_count": 11,
   "metadata": {},
   "outputs": [
    {
     "name": "stdout",
     "output_type": "stream",
     "text": [
      "pytwalk: Saving every 690 iterations only.\n",
      "pytwalk: Running the twalk to 3219540 iterations .  Sat, 08 Feb 2025, 10:31:05.\n",
      "       Finish by Sat, 08 Feb 2025, 10:41.\n"
     ]
    },
    {
     "name": "stderr",
     "output_type": "stream",
     "text": [
      "/home/shivraj/PRL/bacon-notebook/twalk/pytwalk.py:535: RuntimeWarning: overflow encountered in exp\n",
      "  A = exp((up - up_prop) + (W1 - W2))\n",
      "/home/shivraj/PRL/bacon-notebook/twalk/pytwalk.py:548: RuntimeWarning: overflow encountered in exp\n",
      "  A = exp((u - u_prop) + (W1 - W2))\n"
     ]
    },
    {
     "name": "stdout",
     "output_type": "stream",
     "text": [
      "pytwalk:     117759 iterations so far. Finish by Sat, 08 Feb 2025, 10:44.\n",
      "pytwalk:     353279 iterations so far. Finish by Sat, 08 Feb 2025, 10:44.\n",
      "pytwalk:     827391 iterations so far. Finish by Sat, 08 Feb 2025, 10:44.\n",
      "pytwalk:    1772543 iterations so far. Finish by Sat, 08 Feb 2025, 10:44.\n",
      "pytwalk: finished, 3219540 iterations.\n",
      "Sat, 08 Feb 2025, 10:44:40.\n"
     ]
    },
    {
     "data": {
      "text/plain": [
       "1"
      ]
     },
     "execution_count": 11,
     "metadata": {},
     "output_type": "execute_result"
    }
   ],
   "source": [
    "thin = 30 * (K + 2)\n",
    "burn_in = 20_000 * (K + 2)\n",
    "iterations = 4000\n",
    "\n",
    "T = iterations * thin + burn_in\n",
    "\n",
    "mcmc = pytwalk.pytwalk(n = K + 2, U = energy, Supp = support)\n",
    "mcmc.Run(T=T, x0=x, xp0=x_dash, thin=thin)"
   ]
  },
  {
   "cell_type": "code",
   "execution_count": 12,
   "metadata": {},
   "outputs": [
    {
     "name": "stdout",
     "output_type": "stream",
     "text": [
      "pytwalk: twalk output saved in output/output.csv.\n"
     ]
    }
   ],
   "source": [
    "mcmc.SavetwalkOutput('output/output.csv', burn_in=burn_in)"
   ]
  },
  {
   "cell_type": "code",
   "execution_count": 13,
   "metadata": {},
   "outputs": [],
   "source": [
    "theta = mcmc.Output[1000:, 0]\n",
    "x = mcmc.Output[1000:, 1:K + 1]\n",
    "w = mcmc.Output[1000:, -2]\n",
    "objective = mcmc.Output[1000:, -1]\n",
    "\n",
    "def G(theta, x, d):\n",
    "    # Find which interval d falls into (0-based)\n",
    "    i = int(d / delta_c)\n",
    "\n",
    "    memory = sum([x[j] * delta_c for j in range(i + 1)])\n",
    "\n",
    "    return theta + memory + x[i + 1] * (d - c[i])"
   ]
  },
  {
   "cell_type": "code",
   "execution_count": 14,
   "metadata": {},
   "outputs": [
    {
     "data": {
      "image/png": "[encoded data removed]",
      "text/plain": [
       "<Figure size 640x480 with 1 Axes>"
      ]
     },
     "metadata": {},
     "output_type": "display_data"
    }
   ],
   "source": [
    "# make a trace plot of objective\n",
    "plt.plot(objective)\n",
    "plt.xlabel('Iteration')\n",
    "plt.ylabel('Objective')\n",
    "plt.title('Objective Trace Plot')\n",
    "plt.show()"
   ]
  },
  {
   "cell_type": "code",
   "execution_count": 15,
   "metadata": {},
   "outputs": [
    {
     "data": {
      "image/png": "[encoded data removed]",
      "text/plain": [
       "<Figure size 2400x600 with 3 Axes>"
      ]
     },
     "metadata": {},
     "output_type": "display_data"
    }
   ],
   "source": [
    "# plot histogram of theta\n",
    "fig, (ax1, ax2, ax3) = plt.subplots(1, 3, figsize=(24, 6))\n",
    "ax1.hist(theta, bins=50)\n",
    "ax1.set_title('Posterior distribution of Theta')\n",
    "ax2.hist(w**(ds / delta_c), bins=50)\n",
    "ax2.set_title('Posterior distribution of R')\n",
    "ax3.hist(x[:,0], bins=50)\n",
    "ax3.set_title('Posterior distribution of X')\n",
    "plt.show()"
   ]
  },
  {
   "cell_type": "code",
   "execution_count": 16,
   "metadata": {},
   "outputs": [],
   "source": [
    "test_depths = np.arange(depths.min(), depths.max() + 1, 1)\n",
    "results = np.array([np.array([G(theta[i], x[i], d) for i in range(len(theta))]) for d in test_depths])"
   ]
  },
  {
   "cell_type": "code",
   "execution_count": 17,
   "metadata": {},
   "outputs": [
    {
     "data": {
      "text/html": [
       "<div>\n",
       "<style scoped>\n",
       "    .dataframe tbody tr th:only-of-type {\n",
       "        vertical-align: middle;\n",
       "    }\n",
       "\n",
       "    .dataframe tbody tr th {\n",
       "        vertical-align: top;\n",
       "    }\n",
       "\n",
       "    .dataframe thead th {\n",
       "        text-align: right;\n",
       "    }\n",
       "</style>\n",
       "<table border=\"1\" class=\"dataframe\">\n",
       "  <thead>\n",
       "    <tr style=\"text-align: right;\">\n",
       "      <th></th>\n",
       "      <th>depth</th>\n",
       "      <th>min</th>\n",
       "      <th>max</th>\n",
       "      <th>median</th>\n",
       "      <th>mean</th>\n",
       "    </tr>\n",
       "  </thead>\n",
       "  <tbody>\n",
       "    <tr>\n",
       "      <th>0</th>\n",
       "      <td>1.5</td>\n",
       "      <td>4291.80</td>\n",
       "      <td>4771.74</td>\n",
       "      <td>4553.82</td>\n",
       "      <td>4552.29</td>\n",
       "    </tr>\n",
       "    <tr>\n",
       "      <th>1</th>\n",
       "      <td>2.5</td>\n",
       "      <td>4298.41</td>\n",
       "      <td>4773.38</td>\n",
       "      <td>4568.47</td>\n",
       "      <td>4565.55</td>\n",
       "    </tr>\n",
       "    <tr>\n",
       "      <th>2</th>\n",
       "      <td>3.5</td>\n",
       "      <td>4303.08</td>\n",
       "      <td>4775.01</td>\n",
       "      <td>4582.30</td>\n",
       "      <td>4578.82</td>\n",
       "    </tr>\n",
       "    <tr>\n",
       "      <th>3</th>\n",
       "      <td>4.5</td>\n",
       "      <td>4306.79</td>\n",
       "      <td>4776.65</td>\n",
       "      <td>4596.71</td>\n",
       "      <td>4592.08</td>\n",
       "    </tr>\n",
       "    <tr>\n",
       "      <th>4</th>\n",
       "      <td>5.5</td>\n",
       "      <td>4262.44</td>\n",
       "      <td>4797.84</td>\n",
       "      <td>4609.77</td>\n",
       "      <td>4603.84</td>\n",
       "    </tr>\n",
       "    <tr>\n",
       "      <th>...</th>\n",
       "      <td>...</td>\n",
       "      <td>...</td>\n",
       "      <td>...</td>\n",
       "      <td>...</td>\n",
       "      <td>...</td>\n",
       "    </tr>\n",
       "    <tr>\n",
       "      <th>94</th>\n",
       "      <td>95.5</td>\n",
       "      <td>6371.63</td>\n",
       "      <td>7202.42</td>\n",
       "      <td>6654.02</td>\n",
       "      <td>6655.20</td>\n",
       "    </tr>\n",
       "    <tr>\n",
       "      <th>95</th>\n",
       "      <td>96.5</td>\n",
       "      <td>6384.97</td>\n",
       "      <td>7223.83</td>\n",
       "      <td>6668.69</td>\n",
       "      <td>6672.78</td>\n",
       "    </tr>\n",
       "    <tr>\n",
       "      <th>96</th>\n",
       "      <td>97.5</td>\n",
       "      <td>6398.31</td>\n",
       "      <td>7245.24</td>\n",
       "      <td>6684.57</td>\n",
       "      <td>6690.36</td>\n",
       "    </tr>\n",
       "    <tr>\n",
       "      <th>97</th>\n",
       "      <td>98.5</td>\n",
       "      <td>6411.64</td>\n",
       "      <td>7266.65</td>\n",
       "      <td>6701.05</td>\n",
       "      <td>6707.95</td>\n",
       "    </tr>\n",
       "    <tr>\n",
       "      <th>98</th>\n",
       "      <td>99.5</td>\n",
       "      <td>6424.98</td>\n",
       "      <td>7288.06</td>\n",
       "      <td>6719.39</td>\n",
       "      <td>6725.53</td>\n",
       "    </tr>\n",
       "  </tbody>\n",
       "</table>\n",
       "<p>99 rows × 5 columns</p>\n",
       "</div>"
      ],
      "text/plain": [
       "    depth      min      max   median     mean\n",
       "0     1.5  4291.80  4771.74  4553.82  4552.29\n",
       "1     2.5  4298.41  4773.38  4568.47  4565.55\n",
       "2     3.5  4303.08  4775.01  4582.30  4578.82\n",
       "3     4.5  4306.79  4776.65  4596.71  4592.08\n",
       "4     5.5  4262.44  4797.84  4609.77  4603.84\n",
       "..    ...      ...      ...      ...      ...\n",
       "94   95.5  6371.63  7202.42  6654.02  6655.20\n",
       "95   96.5  6384.97  7223.83  6668.69  6672.78\n",
       "96   97.5  6398.31  7245.24  6684.57  6690.36\n",
       "97   98.5  6411.64  7266.65  6701.05  6707.95\n",
       "98   99.5  6424.98  7288.06  6719.39  6725.53\n",
       "\n",
       "[99 rows x 5 columns]"
      ]
     },
     "execution_count": 17,
     "metadata": {},
     "output_type": "execute_result"
    }
   ],
   "source": [
    "result_frame = pd.DataFrame(columns=['depth', 'min', 'max', 'median', 'mean'])\n",
    "\n",
    "for i in range(len(results)):\n",
    "    result_frame.loc[i] = [test_depths[i], round(np.min(results[i]), 2), round(np.max(results[i]), 2), round(np.median(results[i]), 2), round(np.mean(results[i]), 2)]\n",
    "\n",
    "result_frame"
   ]
  },
  {
   "cell_type": "code",
   "execution_count": null,
   "metadata": {},
   "outputs": [],
   "source": []
  }
 ],
 "metadata": {
  "kernelspec": {
   "display_name": "pymc_env",
   "language": "python",
   "name": "python3"
  },
  "language_info": {
   "codemirror_mode": {
    "name": "ipython",
    "version": 3
   },
   "file_extension": ".py",
   "mimetype": "text/x-python",
   "name": "python",
   "nbconvert_exporter": "python",
   "pygments_lexer": "ipython3",
   "version": "3.12.8"
  }
 },
 "nbformat": 4,
 "nbformat_minor": 2
}
