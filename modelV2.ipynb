{
 "cells": [
  {
   "cell_type": "markdown",
   "metadata": {},
   "source": [
    "### Flexible Paleoclimate Age-Depth Models Using an Autoregressive Gamma Process"
   ]
  },
  {
   "cell_type": "code",
   "execution_count": null,
   "metadata": {},
   "outputs": [],
   "source": [
    "import numpy as np\n",
    "from scipy.stats import norm\n",
    "import matplotlib.pyplot as plt\n",
    "from twalk import  pytwalk\n",
    "import pandas as pd\n",
    "from numba import njit"
   ]
  },
  {
   "cell_type": "code",
   "execution_count": 3,
   "metadata": {},
   "outputs": [],
   "source": [
    "# Parameters\n",
    "K = 21 # Number of equally spaced sections\n",
    "delta_c = 5 # space between adjacent sections\n",
    "\n",
    "# accumulation rate parameters\n",
    "acc_shape = 1.5\n",
    "acc_mean = 20 # mean of accumulation rate (yr/cm unit)\n",
    "\n",
    "# memory strength parameters\n",
    "mem_strength = 10\n",
    "mem_mean = 0.5 # mean of memory strength [0,1]. 0 means no memory, 1 means full memory\n",
    "\n",
    "# Student-t parameters\n",
    "a = 3\n",
    "b = 4"
   ]
  },
  {
   "cell_type": "code",
   "execution_count": 4,
   "metadata": {},
   "outputs": [],
   "source": [
    "# Setting parameters for Gamma distribution\n",
    "# mean of gamma dist = alpha * beta\n",
    "a_alpha = acc_shape\n",
    "a_beta = acc_shape / acc_mean\n",
    "\n",
    "# Setting parameters for Beta distribution\n",
    "# mean of beta dist = aw / (aw + bw)\n",
    "aw = mem_strength\n",
    "bw = (aw - mem_mean * aw) / mem_mean\n",
    "\n",
    "ds = 1"
   ]
  },
  {
   "cell_type": "code",
   "execution_count": null,
   "metadata": {},
   "outputs": [],
   "source": [
    "# load data\n",
    "dataset = pd.read_csv('MyLab.csv')\n",
    "calib_curve = pd.read_csv('calib_curves/intcal20.csv')\n",
    "\n",
    "y = dataset['age'].values\n",
    "depths = dataset['depth'].values\n",
    "error = dataset['error'].values\n",
    "\n",
    "M = len(y)\n",
    "\n",
    "# equally spaced sections\n",
    "c = np.arange(1.5, (K + 1) * delta_c, delta_c)\n",
    "y"
   ]
  },
  {
   "cell_type": "code",
   "execution_count": 6,
   "metadata": {},
   "outputs": [],
   "source": [
    "# calibration curve (IntCal20)\n",
    "# returns (age, sigma)\n",
    "cal_bp = calib_curve['CAL BP'][::-1]\n",
    "c14_age = calib_curve['14C age'][::-1]\n",
    "sigma = calib_curve['Sigma'][::-1]\n",
    "\n",
    "def mu(theta):\n",
    "    return np.interp(theta, cal_bp, c14_age), np.interp(theta, cal_bp, sigma)\n",
    "\n",
    "# precomputing the interpolated values for all possible calender years\n",
    "calibrated_age, calibrated_std = mu(np.arange(cal_bp.min(), cal_bp.max() + 1))"
   ]
  },
  {
   "cell_type": "code",
   "execution_count": 7,
   "metadata": {},
   "outputs": [],
   "source": [
    "# semi-parametric model to calculate calendar years for a given depth\n",
    "# returns calendar year\n",
    "# expects partitioned x values\n",
    "@njit\n",
    "def G(theta, x, d):\n",
    "    i = int(d / delta_c)\n",
    "\n",
    "    sum_part = 0.0\n",
    "    for j in range(i + 1):\n",
    "        sum_part += x[j] * delta_c\n",
    "\n",
    "    remainder = x[i + 1] * (d - c[i])\n",
    "    return theta + sum_part + remainder\n",
    "\n",
    "@njit\n",
    "def compute_G_values(theta, x, depths):\n",
    "    n = len(depths)\n",
    "    G_values = np.empty(n, dtype=np.float64)\n",
    "    for idx in range(n):\n",
    "        G_values[idx] = G(theta, x, depths[idx])\n",
    "        \n",
    "    return G_values"
   ]
  },
  {
   "cell_type": "code",
   "execution_count": null,
   "metadata": {},
   "outputs": [],
   "source": [
    "# prior for theta. theta ~ N(y[0], error[0]) (Christen Fox 2010).\n",
    "def theta_prior(theta):\n",
    "    return norm.pdf(theta, loc=y[0], scale=error[0])"
   ]
  },
  {
   "cell_type": "code",
   "execution_count": 9,
   "metadata": {},
   "outputs": [],
   "source": [
    "# \"enery\" function U(theta, x, w | y) = -log (f(theta, x, w | y))\n",
    "def prioracU(i, al):\n",
    "    return (1.0 - a_alpha) * np.log(al) + a_beta * al\n",
    "\n",
    "def energy(x):\n",
    "    theta = x[0]\n",
    "    w = x[K + 1]\n",
    "\n",
    "    G_values = compute_G_values(theta, x[1 : K + 1], depths)\n",
    "    mu_values = calibrated_age[G_values.astype(int)]\n",
    "    std_values = calibrated_std[G_values.astype(int)]\n",
    "\n",
    "    term_1 = ((a + 0.5) * np.log(b + ((y - mu_values)**2) / (2 * (error**2 + std_values**2)))).sum()\n",
    "\n",
    "\n",
    "    term_2 = -np.log(theta)\n",
    "\n",
    "    # Term 3: Prior for w\n",
    "    term_3 = (1 - aw) * np.log(w) / delta_c + (1 - bw) * np.log(1 - w**(ds / delta_c))\n",
    "\n",
    "    # Term 4: Prior for x\n",
    "    term_4 = prioracU(0, x[K])\n",
    "    for k in range(1, K):\n",
    "        term_4 += prioracU(0, (x[k] - w * x[k + 1]) / (1 - w))\n",
    "\n",
    "    # Total energy\n",
    "    return (term_1 + term_2 + term_3 + term_4)\n"
   ]
  },
  {
   "cell_type": "code",
   "execution_count": 10,
   "metadata": {},
   "outputs": [],
   "source": [
    "def support(x):\n",
    "    w = x[-1]\n",
    "\n",
    "    if w <= 0 or w >= 1:\n",
    "        return False\n",
    "    \n",
    "    if x[0] <= 0:\n",
    "        return False\n",
    "\n",
    "    if x[K] <= 0:\n",
    "        return False\n",
    "        \n",
    "    for i in range(K - 1, 0, -1):\n",
    "        ak = (x[i] - w * x[i + 1]) / (1 - w)\n",
    "        if ak < 0:\n",
    "            return False\n",
    "        \n",
    "    return True"
   ]
  },
  {
   "cell_type": "code",
   "execution_count": null,
   "metadata": {},
   "outputs": [],
   "source": [
    "x = np.zeros(K + 2, dtype=np.float64) # x[0] = theta and x[-1] = w\n",
    "x_dash = np.zeros(K + 2, dtype=np.float64)\n",
    "# set initial values\n",
    "# theta\n",
    "x[0] = 4105\n",
    "x_dash[0] = 4212\n",
    "\n",
    "# setting initial values for w\n",
    "x[-1] = 0.04\n",
    "x_dash[-1] = 0.01\n",
    "\n",
    "# setting initial values for x\n",
    "x[K] = np.random.gamma(a_alpha, a_beta / (1 - x[-1]))\n",
    "x_dash[K] = np.random.gamma(a_alpha, a_beta / (1 - x_dash[-1]))\n",
    "\n",
    "for i in range(K - 1, 0, -1):\n",
    "    x[i] = x[-1] * x[i + 1] + np.random.gamma(a_alpha, a_beta / (1 - x[-1]))\n",
    "    x_dash[i] = x_dash[-1] * x_dash[i + 1] + np.random.gamma(a_alpha, a_beta / (1 - x_dash[-1]))\n",
    "\n",
    "energy(x)"
   ]
  },
  {
   "cell_type": "code",
   "execution_count": null,
   "metadata": {},
   "outputs": [],
   "source": [
    "thin = 30 * (K + 2)\n",
    "burn_in = 20_000 * (K + 2)\n",
    "iterations = 4000\n",
    "\n",
    "T = iterations * thin + burn_in\n",
    "\n",
    "mcmc = pytwalk.pytwalk(n = K + 2, U = energy, Supp = support)\n",
    "mcmc.Run(T=T, x0=x, xp0=x_dash, thin=thin)"
   ]
  },
  {
   "cell_type": "code",
   "execution_count": null,
   "metadata": {},
   "outputs": [],
   "source": [
    "mcmc.SavetwalkOutput('output/output.csv', burn_in=burn_in)"
   ]
  },
  {
   "cell_type": "code",
   "execution_count": 14,
   "metadata": {},
   "outputs": [],
   "source": [
    "theta = mcmc.Output[1000:, 0]\n",
    "x = mcmc.Output[1000:, 1:K + 1]\n",
    "w = mcmc.Output[1000:, -2]\n",
    "objective = mcmc.Output[1000:, -1]\n",
    "\n",
    "def G(theta, x, d):\n",
    "    # Find which interval d falls into (0-based)\n",
    "    i = int(d / delta_c)\n",
    "\n",
    "    memory = sum([x[j] * delta_c for j in range(i + 1)])\n",
    "\n",
    "    return theta + memory + x[i + 1] * (d - c[i])"
   ]
  },
  {
   "cell_type": "code",
   "execution_count": null,
   "metadata": {},
   "outputs": [],
   "source": [
    "# make a trace plot of objective\n",
    "plt.plot(objective)\n",
    "plt.xlabel('Iteration')\n",
    "plt.ylabel('Objective')\n",
    "plt.title('Objective Trace Plot')\n",
    "plt.show()"
   ]
  },
  {
   "cell_type": "code",
   "execution_count": null,
   "metadata": {},
   "outputs": [],
   "source": [
    "# plot histogram of theta\n",
    "fig, (ax1, ax2, ax3) = plt.subplots(1, 3, figsize=(24, 6))\n",
    "ax1.hist(theta, bins=50)\n",
    "ax1.set_title('Posterior distribution of Theta')\n",
    "ax2.hist(w**(ds / delta_c), bins=50)\n",
    "ax2.set_title('Posterior distribution of R')\n",
    "ax3.hist(x[:,0], bins=50)\n",
    "ax3.set_title('Posterior distribution of X')\n",
    "plt.show()"
   ]
  },
  {
   "cell_type": "code",
   "execution_count": 17,
   "metadata": {},
   "outputs": [],
   "source": [
    "test_depths = np.arange(depths.min(), depths.max() + 1, 1)\n",
    "results = np.array([np.array([G(theta[i], x[i], d) for i in range(len(theta))]) for d in test_depths])"
   ]
  },
  {
   "cell_type": "code",
   "execution_count": null,
   "metadata": {},
   "outputs": [],
   "source": [
    "result_frame = pd.DataFrame(columns=['depth', 'min', 'max', 'median', 'mean'])\n",
    "\n",
    "for i in range(len(results)):\n",
    "    result_frame.loc[i] = [test_depths[i], round(np.min(results[i]), 2), round(np.max(results[i]), 2), round(np.median(results[i]), 2), round(np.mean(results[i]), 2)]\n",
    "\n",
    "result_frame"
   ]
  },
  {
   "cell_type": "code",
   "execution_count": null,
   "metadata": {},
   "outputs": [],
   "source": []
  }
 ],
 "metadata": {
  "kernelspec": {
   "display_name": "pymc_env",
   "language": "python",
   "name": "python3"
  },
  "language_info": {
   "codemirror_mode": {
    "name": "ipython",
    "version": 3
   },
   "file_extension": ".py",
   "mimetype": "text/x-python",
   "name": "python",
   "nbconvert_exporter": "python",
   "pygments_lexer": "ipython3",
   "version": "3.12.8"
  }
 },
 "nbformat": 4,
 "nbformat_minor": 2
}
